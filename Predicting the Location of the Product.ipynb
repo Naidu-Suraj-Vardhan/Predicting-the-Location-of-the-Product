{
 "cells": [
  {
   "cell_type": "markdown",
   "metadata": {},
   "source": [
    "# **Predicting the Location of the Product**"
   ]
  },
  {
   "cell_type": "markdown",
   "metadata": {},
   "source": [
    "## Import Libraries & Dataset"
   ]
  },
  {
   "cell_type": "code",
   "execution_count": 1,
   "metadata": {
    "_cell_guid": "b1076dfc-b9ad-4769-8c92-a6c4dae69d19",
    "_uuid": "8f2839f25d086af736a60e9eeb907d3b93b6e0e5",
    "execution": {
     "iopub.execute_input": "2021-11-20T06:21:00.685228Z",
     "iopub.status.busy": "2021-11-20T06:21:00.684817Z",
     "iopub.status.idle": "2021-11-20T06:21:01.107838Z",
     "shell.execute_reply": "2021-11-20T06:21:01.106972Z",
     "shell.execute_reply.started": "2021-11-20T06:21:00.685174Z"
    }
   },
   "outputs": [],
   "source": [
    "import numpy as np \n",
    "import pandas as pd \n",
    "import matplotlib.pyplot as plt\n",
    "import seaborn as sns\n",
    "%matplotlib inline\n",
    "\n",
    "import re\n",
    "from sklearn.preprocessing import LabelEncoder\n",
    "from sklearn.model_selection import train_test_split\n",
    "from xgboost import XGBClassifier\n",
    "from sklearn.metrics import accuracy_score\n",
    "\n",
    "import warnings\n",
    "warnings.filterwarnings(\"ignore\")"
   ]
  },
  {
   "cell_type": "code",
   "execution_count": 2,
   "metadata": {
    "execution": {
     "iopub.execute_input": "2021-11-20T06:21:01.114890Z",
     "iopub.status.busy": "2021-11-20T06:21:01.114268Z",
     "iopub.status.idle": "2021-11-20T06:21:01.198098Z",
     "shell.execute_reply": "2021-11-20T06:21:01.197214Z",
     "shell.execute_reply.started": "2021-11-20T06:21:01.114851Z"
    }
   },
   "outputs": [],
   "source": [
    "train = pd.read_csv('Dataset/train.csv',encoding='latin1')\n",
    "target = train['Primary Site Code']\n",
    "train = train.drop('Primary Site Code',axis=1)\n",
    "test = pd.read_csv('Dataset/test.csv',encoding='latin1')\n",
    "submission_columns = test['id']\n",
    "test = test.drop('id',axis=1)\n",
    "data = pd.concat([train,test],axis=0)"
   ]
  },
  {
   "cell_type": "code",
   "execution_count": 3,
   "metadata": {
    "execution": {
     "iopub.execute_input": "2021-11-20T06:21:01.201161Z",
     "iopub.status.busy": "2021-11-20T06:21:01.200767Z",
     "iopub.status.idle": "2021-11-20T06:21:01.217548Z",
     "shell.execute_reply": "2021-11-20T06:21:01.216437Z",
     "shell.execute_reply.started": "2021-11-20T06:21:01.201122Z"
    }
   },
   "outputs": [
    {
     "data": {
      "text/html": [
       "<div>\n",
       "<style scoped>\n",
       "    .dataframe tbody tr th:only-of-type {\n",
       "        vertical-align: middle;\n",
       "    }\n",
       "\n",
       "    .dataframe tbody tr th {\n",
       "        vertical-align: top;\n",
       "    }\n",
       "\n",
       "    .dataframe thead th {\n",
       "        text-align: right;\n",
       "    }\n",
       "</style>\n",
       "<table border=\"1\" class=\"dataframe\">\n",
       "  <thead>\n",
       "    <tr style=\"text-align: right;\">\n",
       "      <th></th>\n",
       "      <th>Source System Code</th>\n",
       "      <th>SDW MPN Key</th>\n",
       "      <th>Product Number</th>\n",
       "      <th>Product Description</th>\n",
       "      <th>Minor Code</th>\n",
       "    </tr>\n",
       "  </thead>\n",
       "  <tbody>\n",
       "    <tr>\n",
       "      <th>18995</th>\n",
       "      <td>LED_BAAN</td>\n",
       "      <td>094845.4A S18-AVL</td>\n",
       "      <td>094845.4A S18</td>\n",
       "      <td>TTEMP BATH BOARD A10B 100V</td>\n",
       "      <td>Unassigned</td>\n",
       "    </tr>\n",
       "    <tr>\n",
       "      <th>18996</th>\n",
       "      <td>LCD_INFOR_ROSKILDE</td>\n",
       "      <td>40916-ROS</td>\n",
       "      <td>40916</td>\n",
       "      <td>ENDESTYKKER SI</td>\n",
       "      <td>LPE Other Minor</td>\n",
       "    </tr>\n",
       "    <tr>\n",
       "      <th>18997</th>\n",
       "      <td>LED_BAAN</td>\n",
       "      <td>1223C22162200200-AVL</td>\n",
       "      <td>1223C22162200200</td>\n",
       "      <td>TF25 D A 208/60 T1 2.3KW AD+</td>\n",
       "      <td>TF 25</td>\n",
       "    </tr>\n",
       "    <tr>\n",
       "      <th>18998</th>\n",
       "      <td>LED_BAAN</td>\n",
       "      <td>091745-NEW</td>\n",
       "      <td>91745</td>\n",
       "      <td>SEISMIC/LEVEL FOOT MOUNT KIT</td>\n",
       "      <td>Unassigned</td>\n",
       "    </tr>\n",
       "    <tr>\n",
       "      <th>18999</th>\n",
       "      <td>LCD_INFOR_NEWPORT</td>\n",
       "      <td>2CRIS-NPT</td>\n",
       "      <td>2CRIS</td>\n",
       "      <td>CRYOVIAL 2.0ML INT SELF STAND</td>\n",
       "      <td>L650- Other Clinical Consumables</td>\n",
       "    </tr>\n",
       "  </tbody>\n",
       "</table>\n",
       "</div>"
      ],
      "text/plain": [
       "       Source System Code           SDW MPN Key    Product Number  \\\n",
       "18995            LED_BAAN     094845.4A S18-AVL     094845.4A S18   \n",
       "18996  LCD_INFOR_ROSKILDE             40916-ROS             40916   \n",
       "18997            LED_BAAN  1223C22162200200-AVL  1223C22162200200   \n",
       "18998            LED_BAAN            091745-NEW             91745   \n",
       "18999   LCD_INFOR_NEWPORT             2CRIS-NPT             2CRIS   \n",
       "\n",
       "                 Product Description                        Minor Code  \n",
       "18995     TTEMP BATH BOARD A10B 100V                        Unassigned  \n",
       "18996                 ENDESTYKKER SI                   LPE Other Minor  \n",
       "18997   TF25 D A 208/60 T1 2.3KW AD+                             TF 25  \n",
       "18998   SEISMIC/LEVEL FOOT MOUNT KIT                        Unassigned  \n",
       "18999  CRYOVIAL 2.0ML INT SELF STAND  L650- Other Clinical Consumables  "
      ]
     },
     "execution_count": 3,
     "metadata": {},
     "output_type": "execute_result"
    }
   ],
   "source": [
    "data.tail()"
   ]
  },
  {
   "cell_type": "code",
   "execution_count": 4,
   "metadata": {
    "execution": {
     "iopub.execute_input": "2021-11-20T06:21:01.219616Z",
     "iopub.status.busy": "2021-11-20T06:21:01.219209Z",
     "iopub.status.idle": "2021-11-20T06:21:01.245415Z",
     "shell.execute_reply": "2021-11-20T06:21:01.244484Z",
     "shell.execute_reply.started": "2021-11-20T06:21:01.219574Z"
    }
   },
   "outputs": [
    {
     "name": "stdout",
     "output_type": "stream",
     "text": [
      "<class 'pandas.core.frame.DataFrame'>\n",
      "Int64Index: 29935 entries, 0 to 18999\n",
      "Data columns (total 5 columns):\n",
      " #   Column               Non-Null Count  Dtype \n",
      "---  ------               --------------  ----- \n",
      " 0   Source System Code   29935 non-null  object\n",
      " 1   SDW MPN Key          29935 non-null  object\n",
      " 2   Product Number       29935 non-null  object\n",
      " 3   Product Description  29880 non-null  object\n",
      " 4   Minor Code           29935 non-null  object\n",
      "dtypes: object(5)\n",
      "memory usage: 1.4+ MB\n"
     ]
    }
   ],
   "source": [
    "data.info()"
   ]
  },
  {
   "cell_type": "markdown",
   "metadata": {},
   "source": [
    "### EDA & Feature Engineering"
   ]
  },
  {
   "cell_type": "code",
   "execution_count": 5,
   "metadata": {
    "execution": {
     "iopub.execute_input": "2021-11-20T06:21:01.247094Z",
     "iopub.status.busy": "2021-11-20T06:21:01.246716Z",
     "iopub.status.idle": "2021-11-20T06:21:01.790787Z",
     "shell.execute_reply": "2021-11-20T06:21:01.789966Z",
     "shell.execute_reply.started": "2021-11-20T06:21:01.247058Z"
    }
   },
   "outputs": [
    {
     "data": {
      "text/plain": [
       "<matplotlib.axes._subplots.AxesSubplot at 0x14f71f498c8>"
      ]
     },
     "execution_count": 5,
     "metadata": {},
     "output_type": "execute_result"
    },
    {
     "data": {
      "image/png": "[encoded data removed]",
      "text/plain": [
       "<Figure size 720x432 with 2 Axes>"
      ]
     },
     "metadata": {
      "needs_background": "light"
     },
     "output_type": "display_data"
    }
   ],
   "source": [
    "## checking for null values\n",
    "plt.figure(figsize=(10,6))\n",
    "sns.heatmap(data.isnull())"
   ]
  },
  {
   "cell_type": "code",
   "execution_count": 6,
   "metadata": {
    "execution": {
     "iopub.execute_input": "2021-11-20T06:21:01.792492Z",
     "iopub.status.busy": "2021-11-20T06:21:01.792144Z",
     "iopub.status.idle": "2021-11-20T06:21:01.806265Z",
     "shell.execute_reply": "2021-11-20T06:21:01.805239Z",
     "shell.execute_reply.started": "2021-11-20T06:21:01.792454Z"
    }
   },
   "outputs": [
    {
     "data": {
      "text/plain": [
       "LED_BAAN                12997\n",
       "LSB                      3456\n",
       "LCD_INFOR_NEWPORT        2514\n",
       "OXAION                   2416\n",
       "LED_SYSPRO_SINGAPORE     2118\n",
       "GBL                      1942\n",
       "ISCALA_FIN               1816\n",
       "LCD_INFOR_ROSKILDE       1057\n",
       "LCD_MACOLA                572\n",
       "ROC                       305\n",
       "AMPK                      263\n",
       "EDW_E1                    241\n",
       "ISCALA_RUS                204\n",
       "PRMS_RFD                   31\n",
       "LCD_SYSPRO_AUBURN           2\n",
       "LCD_SYSPRO_ROCKWOOD         1\n",
       "Name: Source System Code, dtype: int64"
      ]
     },
     "execution_count": 6,
     "metadata": {},
     "output_type": "execute_result"
    }
   ],
   "source": [
    "data['Source System Code'].value_counts()"
   ]
  },
  {
   "cell_type": "code",
   "execution_count": 7,
   "metadata": {
    "execution": {
     "iopub.execute_input": "2021-11-20T06:21:01.808216Z",
     "iopub.status.busy": "2021-11-20T06:21:01.807802Z",
     "iopub.status.idle": "2021-11-20T06:21:01.829031Z",
     "shell.execute_reply": "2021-11-20T06:21:01.828303Z",
     "shell.execute_reply.started": "2021-11-20T06:21:01.808176Z"
    }
   },
   "outputs": [],
   "source": [
    "data['Source System Code_0'] = data['Source System Code'].apply(lambda x: x.split('_')[0])"
   ]
  },
  {
   "cell_type": "code",
   "execution_count": 8,
   "metadata": {
    "execution": {
     "iopub.execute_input": "2021-11-20T06:21:01.832093Z",
     "iopub.status.busy": "2021-11-20T06:21:01.831826Z",
     "iopub.status.idle": "2021-11-20T06:21:01.847454Z",
     "shell.execute_reply": "2021-11-20T06:21:01.846688Z",
     "shell.execute_reply.started": "2021-11-20T06:21:01.832068Z"
    }
   },
   "outputs": [
    {
     "data": {
      "text/plain": [
       "LED       15115\n",
       "LCD        4146\n",
       "LSB        3456\n",
       "OXAION     2416\n",
       "ISCALA     2020\n",
       "GBL        1942\n",
       "ROC         305\n",
       "AMPK        263\n",
       "EDW         241\n",
       "PRMS         31\n",
       "Name: Source System Code_0, dtype: int64"
      ]
     },
     "execution_count": 8,
     "metadata": {},
     "output_type": "execute_result"
    }
   ],
   "source": [
    "data['Source System Code_0'].value_counts()"
   ]
  },
  {
   "cell_type": "code",
   "execution_count": 9,
   "metadata": {
    "execution": {
     "iopub.execute_input": "2021-11-20T06:21:01.850672Z",
     "iopub.status.busy": "2021-11-20T06:21:01.850252Z",
     "iopub.status.idle": "2021-11-20T06:21:02.074190Z",
     "shell.execute_reply": "2021-11-20T06:21:02.073328Z",
     "shell.execute_reply.started": "2021-11-20T06:21:01.850630Z"
    }
   },
   "outputs": [
    {
     "data": {
      "text/plain": [
       "<matplotlib.axes._subplots.AxesSubplot at 0x14f73b96ec8>"
      ]
     },
     "execution_count": 9,
     "metadata": {},
     "output_type": "execute_result"
    },
    {
     "data": {
      "image/png": "[encoded data removed]",
      "text/plain": [
       "<Figure size 720x432 with 1 Axes>"
      ]
     },
     "metadata": {
      "needs_background": "light"
     },
     "output_type": "display_data"
    }
   ],
   "source": [
    "plt.figure(figsize=(10,6))\n",
    "sns.histplot(data['Source System Code_0'],color='b')"
   ]
  },
  {
   "cell_type": "code",
   "execution_count": 10,
   "metadata": {
    "execution": {
     "iopub.execute_input": "2021-11-20T06:21:02.075977Z",
     "iopub.status.busy": "2021-11-20T06:21:02.075484Z",
     "iopub.status.idle": "2021-11-20T06:21:02.092055Z",
     "shell.execute_reply": "2021-11-20T06:21:02.090958Z",
     "shell.execute_reply.started": "2021-11-20T06:21:02.075935Z"
    }
   },
   "outputs": [
    {
     "data": {
      "text/plain": [
       "Unassigned                             10190\n",
       "3K20- SP&A Parts/Acc                    1550\n",
       "TC Service Other Service Parts          1281\n",
       "Centrifuge Service Minor                 962\n",
       "TF 14                                    926\n",
       "TF 25                                    839\n",
       "Temp Control Service Minor               700\n",
       "3F20- Pipette Parts                      694\n",
       "TF 9                                     464\n",
       "Water Purification MjC MC                459\n",
       "L207- Misc Newport                       440\n",
       "Water Analysis Service Minor             309\n",
       "LPE Other Minor                          299\n",
       "TC Accessories MjC MC                    295\n",
       "WAI Misc Lab                             262\n",
       "3K21- SP&A Parts/Acc                     244\n",
       "L702- Npt Contain                        233\n",
       "Ancillary Service Minor                  224\n",
       "Misc Lab Products MjC MC                 192\n",
       "Labware and Bottles MjC MC               179\n",
       "Stirrers and Hot Plates MjC MC           174\n",
       "LPH2- pH/ORP Sensors                     152\n",
       "BSC/CO2 Service Minor                    148\n",
       "L650- Other Clinical Consumables         146\n",
       "Cold Storage Legacy Minor                142\n",
       "Ancillary Service MjC MC                 134\n",
       "SDI MjC MC                               125\n",
       "TC Service ASML Service Parts            125\n",
       "3U40- Strip Washers                      124\n",
       "B606- HDPE Bottles                       121\n",
       "Ovens MC                                 116\n",
       "Clinical LPE MjC MC                      115\n",
       "Large Systems MjC MC                     110\n",
       "3A30- SC Manual TMO                      109\n",
       "L765- Tubes                              107\n",
       "LPE Service MC                           103\n",
       "F105- 32oz WM                             99\n",
       "D271- Pipettes N                          97\n",
       "L703- Swabs                               95\n",
       "LPM1- 5+/6+ Meters                        92\n",
       "D296- Iwaki                               89\n",
       "BD65- FLUID TRANSFER COMPONENTS           89\n",
       "Liquid Handling MjC MC                    79\n",
       "LSB CO2 Accessories MC                    78\n",
       "3G70- Versette                            77\n",
       "LTH1- Thermometry                         77\n",
       "3H20- Photometers LTr                     76\n",
       "Polaris MC                                75\n",
       "LOB1- Eutech-Oakton Legacy BT Meter       74\n",
       "LPM1- 600 Meters                          74\n",
       "Name: Minor Code, dtype: int64"
      ]
     },
     "execution_count": 10,
     "metadata": {},
     "output_type": "execute_result"
    }
   ],
   "source": [
    "data['Minor Code'].value_counts().sort_values(ascending=False).head(50)"
   ]
  },
  {
   "cell_type": "code",
   "execution_count": 11,
   "metadata": {
    "execution": {
     "iopub.execute_input": "2021-11-20T06:21:02.094000Z",
     "iopub.status.busy": "2021-11-20T06:21:02.093626Z",
     "iopub.status.idle": "2021-11-20T06:21:02.102202Z",
     "shell.execute_reply": "2021-11-20T06:21:02.101326Z",
     "shell.execute_reply.started": "2021-11-20T06:21:02.093961Z"
    }
   },
   "outputs": [],
   "source": [
    "target.replace(np.nan,'NaN',inplace=True)"
   ]
  },
  {
   "cell_type": "code",
   "execution_count": 12,
   "metadata": {
    "execution": {
     "iopub.execute_input": "2021-11-20T06:21:02.104286Z",
     "iopub.status.busy": "2021-11-20T06:21:02.103885Z",
     "iopub.status.idle": "2021-11-20T06:21:02.134009Z",
     "shell.execute_reply": "2021-11-20T06:21:02.133201Z",
     "shell.execute_reply.started": "2021-11-20T06:21:02.104248Z"
    }
   },
   "outputs": [],
   "source": [
    "#getting only last word from SDW MPN Key column since the first part is related to prodcut number\n",
    "data['SDW MPN Key_last']= data['SDW MPN Key'].apply(lambda x: x.split('-')[-1])\n",
    "data.drop('SDW MPN Key',axis=1,inplace=True)"
   ]
  },
  {
   "cell_type": "code",
   "execution_count": 13,
   "metadata": {
    "execution": {
     "iopub.execute_input": "2021-11-20T06:21:02.135668Z",
     "iopub.status.busy": "2021-11-20T06:21:02.135273Z",
     "iopub.status.idle": "2021-11-20T06:21:02.186425Z",
     "shell.execute_reply": "2021-11-20T06:21:02.185540Z",
     "shell.execute_reply.started": "2021-11-20T06:21:02.135629Z"
    }
   },
   "outputs": [],
   "source": [
    "## label encoding\n",
    "le=LabelEncoder()\n",
    "target = le.fit_transform(target)\n",
    "\n",
    "le_1 =LabelEncoder()\n",
    "data['SDW MPN Key_last_labels'] = le_1.fit_transform(data['SDW MPN Key_last'])\n",
    "data.drop('SDW MPN Key_last',axis=1, inplace = True)\n",
    "\n",
    "le_2 = LabelEncoder()\n",
    "data['Source System Code_0'] = le_2.fit_transform(data['Source System Code_0'])\n",
    "\n",
    "le_3 = LabelEncoder()\n",
    "data['Minor_Code_labels']=le_3.fit_transform(data['Minor Code'])\n",
    "data.drop('Minor Code',axis=1,inplace=True)"
   ]
  },
  {
   "cell_type": "code",
   "execution_count": 14,
   "metadata": {
    "execution": {
     "iopub.execute_input": "2021-11-20T06:21:02.189655Z",
     "iopub.status.busy": "2021-11-20T06:21:02.189403Z",
     "iopub.status.idle": "2021-11-20T06:21:02.432701Z",
     "shell.execute_reply": "2021-11-20T06:21:02.431889Z",
     "shell.execute_reply.started": "2021-11-20T06:21:02.189630Z"
    }
   },
   "outputs": [
    {
     "data": {
      "text/plain": [
       "<matplotlib.axes._subplots.AxesSubplot at 0x14f7374f388>"
      ]
     },
     "execution_count": 14,
     "metadata": {},
     "output_type": "execute_result"
    },
    {
     "data": {
      "image/png": "[encoded data removed]",
      "text/plain": [
       "<Figure size 432x288 with 1 Axes>"
      ]
     },
     "metadata": {
      "needs_background": "light"
     },
     "output_type": "display_data"
    }
   ],
   "source": [
    "#distribution of target variables\n",
    "sns.kdeplot(target)"
   ]
  },
  {
   "cell_type": "code",
   "execution_count": 15,
   "metadata": {
    "execution": {
     "iopub.execute_input": "2021-11-20T06:21:02.434395Z",
     "iopub.status.busy": "2021-11-20T06:21:02.434058Z",
     "iopub.status.idle": "2021-11-20T06:21:02.713702Z",
     "shell.execute_reply": "2021-11-20T06:21:02.712852Z",
     "shell.execute_reply.started": "2021-11-20T06:21:02.434360Z"
    }
   },
   "outputs": [
    {
     "data": {
      "text/plain": [
       "<matplotlib.axes._subplots.AxesSubplot at 0x14f73c5dc48>"
      ]
     },
     "execution_count": 15,
     "metadata": {},
     "output_type": "execute_result"
    },
    {
     "data": {
      "image/png": "[encoded data removed]",
      "text/plain": [
       "<Figure size 432x288 with 1 Axes>"
      ]
     },
     "metadata": {
      "needs_background": "light"
     },
     "output_type": "display_data"
    }
   ],
   "source": [
    "sns.histplot(data['Minor_Code_labels'])"
   ]
  },
  {
   "cell_type": "code",
   "execution_count": 16,
   "metadata": {
    "execution": {
     "iopub.execute_input": "2021-11-20T06:21:02.715478Z",
     "iopub.status.busy": "2021-11-20T06:21:02.715107Z",
     "iopub.status.idle": "2021-11-20T06:21:02.724130Z",
     "shell.execute_reply": "2021-11-20T06:21:02.723187Z",
     "shell.execute_reply.started": "2021-11-20T06:21:02.715438Z"
    }
   },
   "outputs": [
    {
     "data": {
      "text/plain": [
       "55"
      ]
     },
     "execution_count": 16,
     "metadata": {},
     "output_type": "execute_result"
    }
   ],
   "source": [
    "data['Product Description'].isnull().sum()"
   ]
  },
  {
   "cell_type": "code",
   "execution_count": 17,
   "metadata": {
    "execution": {
     "iopub.execute_input": "2021-11-20T06:21:02.726114Z",
     "iopub.status.busy": "2021-11-20T06:21:02.725519Z",
     "iopub.status.idle": "2021-11-20T06:21:02.803866Z",
     "shell.execute_reply": "2021-11-20T06:21:02.803091Z",
     "shell.execute_reply.started": "2021-11-20T06:21:02.726074Z"
    }
   },
   "outputs": [],
   "source": [
    "#getting only numbers from prdouct number column\n",
    "data['Numbers'] = [''.join(re.findall(r'\\d+',i)) for i in data['Product Number']]\n",
    "\n",
    "data['Numbers'].replace('',np.nan,inplace=True)\n",
    "data['Numbers'].fillna(data['Numbers'].mode()[0],inplace=True)\n",
    "data['Numbers'] = data['Numbers'].astype('int64') "
   ]
  },
  {
   "cell_type": "code",
   "execution_count": 18,
   "metadata": {
    "execution": {
     "iopub.execute_input": "2021-11-20T06:21:02.805415Z",
     "iopub.status.busy": "2021-11-20T06:21:02.805093Z",
     "iopub.status.idle": "2021-11-20T06:21:02.813538Z",
     "shell.execute_reply": "2021-11-20T06:21:02.812530Z",
     "shell.execute_reply.started": "2021-11-20T06:21:02.805381Z"
    }
   },
   "outputs": [],
   "source": [
    "data.drop('Product Number',axis=1,inplace=True)\n",
    "data.drop('Product Description',axis=1,inplace=True)"
   ]
  },
  {
   "cell_type": "code",
   "execution_count": 19,
   "metadata": {
    "execution": {
     "iopub.execute_input": "2021-11-20T06:21:02.815826Z",
     "iopub.status.busy": "2021-11-20T06:21:02.815183Z",
     "iopub.status.idle": "2021-11-20T06:21:02.827739Z",
     "shell.execute_reply": "2021-11-20T06:21:02.826825Z",
     "shell.execute_reply.started": "2021-11-20T06:21:02.815786Z"
    }
   },
   "outputs": [],
   "source": [
    "## categorical encoding (can also use one hot encoding)\n",
    "dum = pd.get_dummies(data['Source System Code'],drop_first=True)\n",
    "data = pd.concat([dum,data],axis=1)\n",
    "data.drop('Source System Code',axis=1,inplace=True)"
   ]
  },
  {
   "cell_type": "code",
   "execution_count": 20,
   "metadata": {
    "execution": {
     "iopub.execute_input": "2021-11-20T06:21:02.829732Z",
     "iopub.status.busy": "2021-11-20T06:21:02.829272Z",
     "iopub.status.idle": "2021-11-20T06:21:02.846849Z",
     "shell.execute_reply": "2021-11-20T06:21:02.846020Z",
     "shell.execute_reply.started": "2021-11-20T06:21:02.829693Z"
    }
   },
   "outputs": [
    {
     "data": {
      "text/html": [
       "<div>\n",
       "<style scoped>\n",
       "    .dataframe tbody tr th:only-of-type {\n",
       "        vertical-align: middle;\n",
       "    }\n",
       "\n",
       "    .dataframe tbody tr th {\n",
       "        vertical-align: top;\n",
       "    }\n",
       "\n",
       "    .dataframe thead th {\n",
       "        text-align: right;\n",
       "    }\n",
       "</style>\n",
       "<table border=\"1\" class=\"dataframe\">\n",
       "  <thead>\n",
       "    <tr style=\"text-align: right;\">\n",
       "      <th></th>\n",
       "      <th>EDW_E1</th>\n",
       "      <th>GBL</th>\n",
       "      <th>ISCALA_FIN</th>\n",
       "      <th>ISCALA_RUS</th>\n",
       "      <th>LCD_INFOR_NEWPORT</th>\n",
       "      <th>LCD_INFOR_ROSKILDE</th>\n",
       "      <th>LCD_MACOLA</th>\n",
       "      <th>LCD_SYSPRO_AUBURN</th>\n",
       "      <th>LCD_SYSPRO_ROCKWOOD</th>\n",
       "      <th>LED_BAAN</th>\n",
       "      <th>LED_SYSPRO_SINGAPORE</th>\n",
       "      <th>LSB</th>\n",
       "      <th>OXAION</th>\n",
       "      <th>PRMS_RFD</th>\n",
       "      <th>ROC</th>\n",
       "      <th>Source System Code_0</th>\n",
       "      <th>SDW MPN Key_last_labels</th>\n",
       "      <th>Minor_Code_labels</th>\n",
       "      <th>Numbers</th>\n",
       "    </tr>\n",
       "  </thead>\n",
       "  <tbody>\n",
       "    <tr>\n",
       "      <th>0</th>\n",
       "      <td>0</td>\n",
       "      <td>0</td>\n",
       "      <td>1</td>\n",
       "      <td>0</td>\n",
       "      <td>0</td>\n",
       "      <td>0</td>\n",
       "      <td>0</td>\n",
       "      <td>0</td>\n",
       "      <td>0</td>\n",
       "      <td>0</td>\n",
       "      <td>0</td>\n",
       "      <td>0</td>\n",
       "      <td>0</td>\n",
       "      <td>0</td>\n",
       "      <td>0</td>\n",
       "      <td>3</td>\n",
       "      <td>55</td>\n",
       "      <td>59</td>\n",
       "      <td>9402159</td>\n",
       "    </tr>\n",
       "    <tr>\n",
       "      <th>1</th>\n",
       "      <td>0</td>\n",
       "      <td>0</td>\n",
       "      <td>0</td>\n",
       "      <td>0</td>\n",
       "      <td>0</td>\n",
       "      <td>0</td>\n",
       "      <td>0</td>\n",
       "      <td>0</td>\n",
       "      <td>0</td>\n",
       "      <td>1</td>\n",
       "      <td>0</td>\n",
       "      <td>0</td>\n",
       "      <td>0</td>\n",
       "      <td>0</td>\n",
       "      <td>0</td>\n",
       "      <td>5</td>\n",
       "      <td>3</td>\n",
       "      <td>644</td>\n",
       "      <td>12586100000</td>\n",
       "    </tr>\n",
       "    <tr>\n",
       "      <th>2</th>\n",
       "      <td>0</td>\n",
       "      <td>0</td>\n",
       "      <td>0</td>\n",
       "      <td>0</td>\n",
       "      <td>1</td>\n",
       "      <td>0</td>\n",
       "      <td>0</td>\n",
       "      <td>0</td>\n",
       "      <td>0</td>\n",
       "      <td>0</td>\n",
       "      <td>0</td>\n",
       "      <td>0</td>\n",
       "      <td>0</td>\n",
       "      <td>0</td>\n",
       "      <td>0</td>\n",
       "      <td>4</td>\n",
       "      <td>35</td>\n",
       "      <td>131</td>\n",
       "      <td>228</td>\n",
       "    </tr>\n",
       "    <tr>\n",
       "      <th>3</th>\n",
       "      <td>0</td>\n",
       "      <td>0</td>\n",
       "      <td>0</td>\n",
       "      <td>0</td>\n",
       "      <td>1</td>\n",
       "      <td>0</td>\n",
       "      <td>0</td>\n",
       "      <td>0</td>\n",
       "      <td>0</td>\n",
       "      <td>0</td>\n",
       "      <td>0</td>\n",
       "      <td>0</td>\n",
       "      <td>0</td>\n",
       "      <td>0</td>\n",
       "      <td>0</td>\n",
       "      <td>4</td>\n",
       "      <td>35</td>\n",
       "      <td>131</td>\n",
       "      <td>1000</td>\n",
       "    </tr>\n",
       "    <tr>\n",
       "      <th>4</th>\n",
       "      <td>0</td>\n",
       "      <td>0</td>\n",
       "      <td>0</td>\n",
       "      <td>0</td>\n",
       "      <td>0</td>\n",
       "      <td>0</td>\n",
       "      <td>0</td>\n",
       "      <td>0</td>\n",
       "      <td>0</td>\n",
       "      <td>1</td>\n",
       "      <td>0</td>\n",
       "      <td>0</td>\n",
       "      <td>0</td>\n",
       "      <td>0</td>\n",
       "      <td>0</td>\n",
       "      <td>5</td>\n",
       "      <td>33</td>\n",
       "      <td>644</td>\n",
       "      <td>12411</td>\n",
       "    </tr>\n",
       "  </tbody>\n",
       "</table>\n",
       "</div>"
      ],
      "text/plain": [
       "   EDW_E1  GBL  ISCALA_FIN  ISCALA_RUS  LCD_INFOR_NEWPORT  LCD_INFOR_ROSKILDE  \\\n",
       "0       0    0           1           0                  0                   0   \n",
       "1       0    0           0           0                  0                   0   \n",
       "2       0    0           0           0                  1                   0   \n",
       "3       0    0           0           0                  1                   0   \n",
       "4       0    0           0           0                  0                   0   \n",
       "\n",
       "   LCD_MACOLA  LCD_SYSPRO_AUBURN  LCD_SYSPRO_ROCKWOOD  LED_BAAN  \\\n",
       "0           0                  0                    0         0   \n",
       "1           0                  0                    0         1   \n",
       "2           0                  0                    0         0   \n",
       "3           0                  0                    0         0   \n",
       "4           0                  0                    0         1   \n",
       "\n",
       "   LED_SYSPRO_SINGAPORE  LSB  OXAION  PRMS_RFD  ROC  Source System Code_0  \\\n",
       "0                     0    0       0         0    0                     3   \n",
       "1                     0    0       0         0    0                     5   \n",
       "2                     0    0       0         0    0                     4   \n",
       "3                     0    0       0         0    0                     4   \n",
       "4                     0    0       0         0    0                     5   \n",
       "\n",
       "   SDW MPN Key_last_labels  Minor_Code_labels      Numbers  \n",
       "0                       55                 59      9402159  \n",
       "1                        3                644  12586100000  \n",
       "2                       35                131          228  \n",
       "3                       35                131         1000  \n",
       "4                       33                644        12411  "
      ]
     },
     "execution_count": 20,
     "metadata": {},
     "output_type": "execute_result"
    }
   ],
   "source": [
    "data.head()"
   ]
  },
  {
   "cell_type": "code",
   "execution_count": 21,
   "metadata": {
    "execution": {
     "iopub.execute_input": "2021-11-20T06:21:02.848485Z",
     "iopub.status.busy": "2021-11-20T06:21:02.847970Z",
     "iopub.status.idle": "2021-11-20T06:21:02.863937Z",
     "shell.execute_reply": "2021-11-20T06:21:02.863083Z",
     "shell.execute_reply.started": "2021-11-20T06:21:02.848445Z"
    }
   },
   "outputs": [
    {
     "name": "stdout",
     "output_type": "stream",
     "text": [
      "<class 'pandas.core.frame.DataFrame'>\n",
      "Int64Index: 29935 entries, 0 to 18999\n",
      "Data columns (total 19 columns):\n",
      " #   Column                   Non-Null Count  Dtype\n",
      "---  ------                   --------------  -----\n",
      " 0   EDW_E1                   29935 non-null  uint8\n",
      " 1   GBL                      29935 non-null  uint8\n",
      " 2   ISCALA_FIN               29935 non-null  uint8\n",
      " 3   ISCALA_RUS               29935 non-null  uint8\n",
      " 4   LCD_INFOR_NEWPORT        29935 non-null  uint8\n",
      " 5   LCD_INFOR_ROSKILDE       29935 non-null  uint8\n",
      " 6   LCD_MACOLA               29935 non-null  uint8\n",
      " 7   LCD_SYSPRO_AUBURN        29935 non-null  uint8\n",
      " 8   LCD_SYSPRO_ROCKWOOD      29935 non-null  uint8\n",
      " 9   LED_BAAN                 29935 non-null  uint8\n",
      " 10  LED_SYSPRO_SINGAPORE     29935 non-null  uint8\n",
      " 11  LSB                      29935 non-null  uint8\n",
      " 12  OXAION                   29935 non-null  uint8\n",
      " 13  PRMS_RFD                 29935 non-null  uint8\n",
      " 14  ROC                      29935 non-null  uint8\n",
      " 15  Source System Code_0     29935 non-null  int32\n",
      " 16  SDW MPN Key_last_labels  29935 non-null  int32\n",
      " 17  Minor_Code_labels        29935 non-null  int32\n",
      " 18  Numbers                  29935 non-null  int64\n",
      "dtypes: int32(3), int64(1), uint8(15)\n",
      "memory usage: 1.2 MB\n"
     ]
    }
   ],
   "source": [
    "data.info()"
   ]
  },
  {
   "cell_type": "markdown",
   "metadata": {},
   "source": [
    "## Splitting the Data"
   ]
  },
  {
   "cell_type": "code",
   "execution_count": 22,
   "metadata": {
    "execution": {
     "iopub.execute_input": "2021-11-20T06:21:02.865639Z",
     "iopub.status.busy": "2021-11-20T06:21:02.865275Z",
     "iopub.status.idle": "2021-11-20T06:21:02.876129Z",
     "shell.execute_reply": "2021-11-20T06:21:02.875248Z",
     "shell.execute_reply.started": "2021-11-20T06:21:02.865602Z"
    }
   },
   "outputs": [],
   "source": [
    "train_x = data[:len(train)]\n",
    "test_x = data[len(train):]\n",
    "\n",
    "X_train, X_val, y_train, y_val = train_test_split(train_x,target,test_size=0.2,random_state=0)"
   ]
  },
  {
   "cell_type": "markdown",
   "metadata": {},
   "source": [
    "## Building Model and Evaluation"
   ]
  },
  {
   "cell_type": "code",
   "execution_count": 23,
   "metadata": {
    "execution": {
     "iopub.execute_input": "2021-11-20T06:21:02.878485Z",
     "iopub.status.busy": "2021-11-20T06:21:02.877799Z",
     "iopub.status.idle": "2021-11-20T06:21:07.040421Z",
     "shell.execute_reply": "2021-11-20T06:21:07.039588Z",
     "shell.execute_reply.started": "2021-11-20T06:21:02.878443Z"
    }
   },
   "outputs": [
    {
     "data": {
      "text/plain": [
       "0.9693644261545497"
      ]
     },
     "execution_count": 23,
     "metadata": {},
     "output_type": "execute_result"
    }
   ],
   "source": [
    "xgb = XGBClassifier()\n",
    "xgb.fit(X_train,y_train,eval_set=[(X_train,y_train),(X_val,y_val)],verbose=0)\n",
    "accuracy_score(xgb.predict(X_val),y_val)"
   ]
  },
  {
   "cell_type": "code",
   "execution_count": 24,
   "metadata": {
    "execution": {
     "iopub.execute_input": "2021-11-20T06:21:07.042554Z",
     "iopub.status.busy": "2021-11-20T06:21:07.041878Z",
     "iopub.status.idle": "2021-11-20T06:21:07.417446Z",
     "shell.execute_reply": "2021-11-20T06:21:07.416701Z",
     "shell.execute_reply.started": "2021-11-20T06:21:07.042510Z"
    }
   },
   "outputs": [],
   "source": [
    "pred = xgb.predict(test_x)\n",
    "sub = pd.DataFrame({'id':submission_columns,'Primary Site Code':le.inverse_transform(pred)})"
   ]
  },
  {
   "cell_type": "code",
   "execution_count": 25,
   "metadata": {
    "execution": {
     "iopub.execute_input": "2021-11-20T06:21:07.419498Z",
     "iopub.status.busy": "2021-11-20T06:21:07.418841Z",
     "iopub.status.idle": "2021-11-20T06:21:07.426648Z",
     "shell.execute_reply": "2021-11-20T06:21:07.425959Z",
     "shell.execute_reply.started": "2021-11-20T06:21:07.419458Z"
    }
   },
   "outputs": [
    {
     "data": {
      "text/plain": [
       "array(['E03', 'U71', 'EDK', ..., 'U71', 'U71', 'EGN'], dtype=object)"
      ]
     },
     "execution_count": 25,
     "metadata": {},
     "output_type": "execute_result"
    }
   ],
   "source": [
    "le.inverse_transform(pred)"
   ]
  },
  {
   "cell_type": "code",
   "execution_count": null,
   "metadata": {
    "execution": {
     "iopub.execute_input": "2021-11-20T06:21:07.432894Z",
     "iopub.status.busy": "2021-11-20T06:21:07.432345Z",
     "iopub.status.idle": "2021-11-20T06:21:07.471298Z",
     "shell.execute_reply": "2021-11-20T06:21:07.470551Z",
     "shell.execute_reply.started": "2021-11-20T06:21:07.432857Z"
    }
   },
   "outputs": [],
   "source": [
    "sub.to_csv('final_preds.csv',index=False)"
   ]
  },
  {
   "cell_type": "code",
   "execution_count": null,
   "metadata": {},
   "outputs": [],
   "source": []
  }
 ],
 "metadata": {
  "kernelspec": {
   "display_name": "Python 3",
   "language": "python",
   "name": "python3"
  },
  "language_info": {
   "codemirror_mode": {
    "name": "ipython",
    "version": 3
   },
   "file_extension": ".py",
   "mimetype": "text/x-python",
   "name": "python",
   "nbconvert_exporter": "python",
   "pygments_lexer": "ipython3",
   "version": "3.7.6"
  }
 },
 "nbformat": 4,
 "nbformat_minor": 4
}
